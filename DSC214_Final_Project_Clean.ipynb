{
  "nbformat": 4,
  "nbformat_minor": 0,
  "metadata": {
    "colab": {
      "provenance": [],
      "gpuType": "T4"
    },
    "kernelspec": {
      "name": "python3",
      "display_name": "Python 3"
    },
    "language_info": {
      "name": "python"
    },
    "accelerator": "GPU"
  },
  "cells": [
    {
      "cell_type": "code",
      "execution_count": null,
      "metadata": {
        "id": "2lYQaH1WOboW"
      },
      "outputs": [],
      "source": [
        "# installing necessary libraries\n",
        "!pip install -U sentence-transformers persim ripser umap-learn"
      ]
    },
    {
      "cell_type": "markdown",
      "source": [
        "### Let's fetch and tranform medical text data from 20newsgroups dataset"
      ],
      "metadata": {
        "id": "6Y1bt2gdnmv7"
      }
    },
    {
      "cell_type": "code",
      "source": [
        "from sentence_transformers import SentenceTransformer\n",
        "from sklearn.datasets import fetch_20newsgroups\n",
        "\n",
        "newsgroups_med = fetch_20newsgroups(subset='train', categories = ['sci.med'])\n",
        "\n",
        "model = SentenceTransformer('sentence-transformers/all-MiniLM-L6-v2')\n",
        "embeddings_med = model.encode(newsgroups_med['data'])"
      ],
      "metadata": {
        "id": "C8utNWd1O9OU"
      },
      "execution_count": null,
      "outputs": []
    },
    {
      "cell_type": "code",
      "source": [
        "from sklearn.decomposition import PCA\n",
        "from sklearn.manifold import TSNE\n",
        "import umap.umap_ as umap\n",
        "import numpy as np\n",
        "\n",
        "# PCA transformation\n",
        "pca_2d = PCA(n_components=2)\n",
        "med_pca_2d = pca_2d.fit_transform(embeddings_med)\n",
        "\n",
        "pca_50d = PCA(n_components=50)\n",
        "med_pca_50d = pca_50d.fit_transform(embeddings_med)\n",
        "\n",
        "# t-SNE transformation\n",
        "tsne_2d = TSNE(n_components=2, random_state=42, perplexity=30, method='barnes_hut')\n",
        "med_tsne_2d = tsne_2d.fit_transform(embeddings_med.astype(np.float32))\n",
        "\n",
        "tsne_50d = TSNE(n_components=50, random_state=50, perplexity=30, method='exact')\n",
        "med_tsne_50d = tsne_50d.fit_transform(embeddings_med.astype(np.float32))\n",
        "\n",
        "# UMAP transformation\n",
        "umap_2d = umap.UMAP(n_components=2, random_state=42)\n",
        "med_umap_2d = umap_2d.fit_transform(embeddings_med)\n",
        "\n",
        "umap_50d = umap.UMAP(n_components=50, random_state=42)\n",
        "med_umap_50d = umap_50d.fit_transform(embeddings_med)\n"
      ],
      "metadata": {
        "id": "tH_TM2EnPEdk"
      },
      "execution_count": null,
      "outputs": []
    },
    {
      "cell_type": "markdown",
      "source": [
        "## Let's get persistance diagrams of original embeddings vs emdeddings in reduced dimensions"
      ],
      "metadata": {
        "id": "t1vsDuCvoPbC"
      }
    },
    {
      "cell_type": "code",
      "source": [
        "from persim import plot_diagrams\n",
        "from ripser import ripser\n",
        "import matplotlib.pyplot as plt\n",
        "\n",
        "# Compute persistence diagrams\n",
        "pers_orig_med = ripser(embeddings_med, do_cocycles=True)\n",
        "pers_pca2d_med = ripser(med_pca_2d, do_cocycles=True)\n",
        "pers_tsne2d_med = ripser(med_tsne_2d, do_cocycles=True)\n",
        "pers_umap2d_med = ripser(med_umap_2d, do_cocycles=True)\n",
        "\n",
        "# Set up plot\n",
        "fig, axes = plt.subplots(2, 2, figsize=(14, 10))\n",
        "axes = axes.flatten()  # flatten 2x2 array to 1D list for easy iteration\n",
        "\n",
        "# Titles and diagrams\n",
        "titles = ['Original', 'PCA 2D', 't-SNE 2D', 'UMAP 2D']\n",
        "dgms = [pers_orig_med['dgms'], pers_pca2d_med['dgms'],\n",
        "        pers_tsne2d_med['dgms'], pers_umap2d_med['dgms']]\n",
        "\n",
        "# Plot each diagram on its respective subplot\n",
        "for ax, dgm, title in zip(axes, dgms, titles):\n",
        "    plot_diagrams(dgm, ax=ax, show=False)\n",
        "    ax.set_title(title)\n",
        "\n",
        "plt.tight_layout()\n",
        "plt.show()\n"
      ],
      "metadata": {
        "id": "9aPBx4eMmLqS"
      },
      "execution_count": null,
      "outputs": []
    },
    {
      "cell_type": "code",
      "source": [
        "from persim import plot_diagrams\n",
        "from ripser import ripser\n",
        "import matplotlib.pyplot as plt\n",
        "\n",
        "# Compute persistence diagrams\n",
        "pers_orig_med = ripser(embeddings_med, do_cocycles=True)\n",
        "pers_pca50d_med = ripser(med_pca_50d, do_cocycles=True)\n",
        "pers_tsne50d_med = ripser(med_tsne_50d, do_cocycles=True)\n",
        "pers_umap50d_med = ripser(med_umap_50d, do_cocycles=True)\n",
        "\n",
        "# Set up plot\n",
        "fig, axes = plt.subplots(2, 2, figsize=(14, 10))\n",
        "axes = axes.flatten()  # flatten 2x2 array to 1D list for easy iteration\n",
        "\n",
        "# Titles and diagrams\n",
        "titles = ['Original', 'PCA 50D', 't-SNE 50D', 'UMAP 50D']\n",
        "dgms = [pers_orig_med['dgms'], pers_pca50d_med['dgms'],\n",
        "        pers_tsne50d_med['dgms'], pers_umap50d_med['dgms']]\n",
        "\n",
        "# Plot each diagram on its respective subplot\n",
        "for ax, dgm, title in zip(axes, dgms, titles):\n",
        "    plot_diagrams(dgm, ax=ax, show=False)\n",
        "    ax.set_title(title)\n",
        "\n",
        "plt.tight_layout()\n",
        "plt.show()\n"
      ],
      "metadata": {
        "id": "EcnrGPAFmmtZ"
      },
      "execution_count": null,
      "outputs": []
    },
    {
      "cell_type": "markdown",
      "source": [
        "### Analysis of H0 features\n",
        "\n",
        "\n",
        "\n"
      ],
      "metadata": {
        "id": "-ma7DUDEoX1V"
      }
    },
    {
      "cell_type": "code",
      "source": [
        "from scipy.spatial.distance import pdist, squareform\n",
        "from ripser import ripser\n",
        "from sklearn.metrics import jaccard_score\n",
        "import numpy as np\n",
        "import networkx as nx\n",
        "import seaborn as sns\n",
        "import matplotlib.pyplot as plt\n",
        "\n",
        "def build_clusters(distance_matrix, threshold):\n",
        "    G = nx.Graph()\n",
        "    n = distance_matrix.shape[0]\n",
        "    G.add_nodes_from(range(n))\n",
        "    for i in range(n):\n",
        "        for j in range(i + 1, n):\n",
        "            if distance_matrix[i, j] < threshold:\n",
        "                G.add_edge(i, j)\n",
        "    return list(nx.connected_components(G))\n",
        "\n",
        "\n",
        "def jaccard_index(set1, set2, n):\n",
        "    a = np.zeros(n)\n",
        "    b = np.zeros(n)\n",
        "    for i in set1: a[i] = 1\n",
        "    for i in set2: b[i] = 1\n",
        "    return jaccard_score(a, b)\n",
        "\n",
        "def compare_persistent_clusters(embeddings_hd, embeddings_reduced, k=5):\n",
        "\n",
        "  D_hd = squareform(pdist(embeddings_hd)) # original space\n",
        "  D_pca = squareform(pdist(embeddings_reduced))    # 2D PCA space\n",
        "\n",
        "  result_hd = ripser(D_hd, distance_matrix=True, maxdim=0)\n",
        "  result_pca = ripser(D_pca, distance_matrix=True, maxdim=0)\n",
        "\n",
        "\n",
        "  dgms_hd = result_hd['dgms'][0]   # H₀ diagram for original D\n",
        "  dgms_pca = result_pca['dgms'][0] # H₀ diagram for 2D PCA\n",
        "\n",
        "  k = 5  # top 5 most persistent features\n",
        "\n",
        "  persist_hd = dgms_hd[:,1] - dgms_hd[:,0]\n",
        "  persist_pca = dgms_pca[:,1] - dgms_pca[:,0]\n",
        "\n",
        "  top_hd = np.argsort(-persist_hd)[:k]\n",
        "  top_pca = np.argsort(-persist_pca)[:k]\n",
        "\n",
        "  death_thresholds_hd = dgms_hd[top_hd, 1]\n",
        "  death_thresholds_pca = dgms_pca[top_pca, 1]\n",
        "\n",
        "  clusters_hd = [build_clusters(D_hd, t) for t in death_thresholds_hd]\n",
        "  clusters_pca = [build_clusters(D_pca, t) for t in death_thresholds_pca]\n",
        "\n",
        "  # Flatten all point indices from top-k clusters\n",
        "  points_hd_sets = [set().union(*clusters) for clusters in clusters_hd]\n",
        "  points_pca_sets = [set().union(*clusters) for clusters in clusters_pca]\n",
        "\n",
        "  points_hd_sets = [set(cluster) for clusters in clusters_hd for cluster in clusters]\n",
        "\n",
        "  n_points = embeddings_med.shape[0]\n",
        "  jaccard_matrix = np.zeros((k, k))\n",
        "\n",
        "  for i in range(k):\n",
        "      for j in range(k):\n",
        "          jaccard_matrix[i, j] = jaccard_index(points_hd_sets[i], points_pca_sets[j], n_points)\n",
        "\n",
        "  return jaccard_matrix\n",
        "\n"
      ],
      "metadata": {
        "id": "90WPMk_TmLs2"
      },
      "execution_count": null,
      "outputs": []
    },
    {
      "cell_type": "code",
      "source": [
        "jac_matrix_pca_2d = compare_persistent_clusters(embeddings_med, med_pca_2d, k=5)\n",
        "jac_matrix_pca_50d = compare_persistent_clusters(embeddings_med, med_pca_50d, k=5)\n",
        "jac_matrix_tsne_2d = compare_persistent_clusters(embeddings_med, med_tsne_2d, k=5)\n",
        "jac_matrix_tsne_50d = compare_persistent_clusters(embeddings_med, med_tsne_50d, k=5)\n",
        "jac_matrix_umap_2d = compare_persistent_clusters(embeddings_med, med_umap_2d, k=5)\n",
        "jac_matrix_umap_50d = compare_persistent_clusters(embeddings_med, med_umap_50d, k=5)\n"
      ],
      "metadata": {
        "id": "yH84Xwq7tkze"
      },
      "execution_count": null,
      "outputs": []
    },
    {
      "cell_type": "code",
      "source": [
        "import matplotlib.pyplot as plt\n",
        "import seaborn as sns\n",
        "import numpy as np\n",
        "\n",
        "matrices = [jac_matrix_pca_2d, jac_matrix_pca_50d, jac_matrix_tsne_2d,\n",
        "            jac_matrix_tsne_50d, jac_matrix_umap_2d, jac_matrix_umap_50d]  # Replace with actual matrices\n",
        "\n",
        "titles = [\n",
        "    \"PCA 2D\", \"PCA 50D\", \"t-SNE 2D\",\n",
        "    \"t-SNE 50D\", \"UMAP 2D\", \"UMAP 50D\"\n",
        "]\n",
        "\n",
        "fig, axes = plt.subplots(2, 3, figsize=(18, 10))\n",
        "\n",
        "for ax, mat, title in zip(axes.flat, matrices, titles):\n",
        "    sns.heatmap(mat, ax=ax, annot=True, fmt=\".2f\", cmap=\"viridis\")\n",
        "    ax.set_title(title)\n",
        "    ax.set_xlabel(\"Reduced H₀ Feature Index\")\n",
        "    ax.set_ylabel(\"Original Dimensions H₀ Feature Index\")\n",
        "\n",
        "plt.tight_layout()\n",
        "plt.show()"
      ],
      "metadata": {
        "id": "JDQof4Oetx5R"
      },
      "execution_count": null,
      "outputs": []
    },
    {
      "cell_type": "markdown",
      "source": [
        "# Analysis of H1 features"
      ],
      "metadata": {
        "id": "yAU5BiZTuzaW"
      }
    },
    {
      "cell_type": "code",
      "source": [
        "from collections import defaultdict\n",
        "\n",
        "def extract_point_ids_from_cocycle(cocycle):\n",
        "    point_ids = set()\n",
        "    for i, j, _ in cocycle:\n",
        "        point_ids.add(i)\n",
        "        point_ids.add(j)\n",
        "    return point_ids\n",
        "\n",
        "def build_point_to_loop_map(loop_participation_list):\n",
        "    point_map = defaultdict(list)\n",
        "    for loop_idx, point_set in enumerate(loop_participation_list):\n",
        "        for point in point_set:\n",
        "            point_map[point].append(loop_idx)\n",
        "    return point_map\n",
        "\n",
        "def set_to_binary_vector(point_set, size):\n",
        "    vec = np.zeros(size)\n",
        "    vec[list(point_set)] = 1\n",
        "    return vec\n",
        "\n",
        "def get_comparison_data(emeddings_hd, emdeddings_rd, k=5):\n",
        "\n",
        "  point_ids = np.arange(emeddings_hd.shape[0])\n",
        "\n",
        "  result_hd = ripser(emeddings_hd, maxdim=1, do_cocycles=True)\n",
        "  result_pca = ripser(emdeddings_rd, maxdim=1, do_cocycles=True)\n",
        "\n",
        "  dgms_hd = result_hd['dgms'][1]\n",
        "  dgms_pca = result_pca['dgms'][1]\n",
        "\n",
        "  cocycles_hd = result_hd['cocycles'][1]\n",
        "  cocycles_pca = result_pca['cocycles'][1]\n",
        "\n",
        "  # Sort features by persistence\n",
        "  persistence_hd = dgms_hd[:,1] - dgms_hd[:,0]\n",
        "  top_hd_indices = np.argsort(-persistence_hd)[:k]\n",
        "\n",
        "  point_participation_hd = [extract_point_ids_from_cocycle(cocycles_hd[i]) for i in top_hd_indices]\n",
        "\n",
        "  # Sort features by persistence\n",
        "  persistence_ld = dgms_pca[:,1] - dgms_pca[:,0]\n",
        "  top_ld_indices = np.argsort(-persistence_ld)[:k]\n",
        "\n",
        "  point_participation_rd = [extract_point_ids_from_cocycle(cocycles_pca[i]) for i in top_ld_indices]\n",
        "\n",
        "  map_hd = build_point_to_loop_map(point_participation_hd)\n",
        "  map_pca = build_point_to_loop_map(point_participation_rd)\n",
        "\n",
        "  n_points = emeddings_hd.shape[0]\n",
        "  comparison_data = []\n",
        "\n",
        "  for point_id in range(n_points):\n",
        "      loops_in_hd = map_hd.get(point_id, [])\n",
        "      loops_in_pca = map_pca.get(point_id, [])\n",
        "\n",
        "      comparison_data.append({\n",
        "          \"id\": point_id,\n",
        "          \"in_hd\": len(loops_in_hd),\n",
        "          \"in_pca\": len(loops_in_pca),\n",
        "        # \"overlap\": len(loops_in_hd & loops_in_pca),  # how many loops they share\n",
        "          \"consistent\": loops_in_hd == loops_in_pca,   # exact match (optional)\n",
        "          \"lost_role\": len(loops_in_hd) > 0 and len(loops_in_pca) == 0,\n",
        "          \"gained_role\": len(loops_in_hd) == 0 and len(loops_in_pca) > 0\n",
        "      })\n",
        "\n",
        "\n",
        "  # Store results as a matrix: rows = loops in HD, cols = loops in PCA\n",
        "  jaccard_matrix = np.zeros((len(point_participation_hd), len(point_participation_rd)))\n",
        "\n",
        "  for i, hd_loop in enumerate(point_participation_hd):\n",
        "      v_hd = set_to_binary_vector(hd_loop, n_points)\n",
        "      for j, pca_loop in enumerate(point_participation_pca):\n",
        "          v_pca = set_to_binary_vector(pca_loop, n_points)\n",
        "          jaccard_matrix[i, j] = jaccard_score(v_hd, v_pca)\n",
        "\n",
        "  return pd.DataFrame(comparison_data), jaccard_matrix"
      ],
      "metadata": {
        "id": "VlFPr1QuurrK"
      },
      "execution_count": null,
      "outputs": []
    },
    {
      "cell_type": "code",
      "source": [
        "comparison_data_pca_2d, jac_matrix_pca_2d = get_comparison_data(embeddings_med, med_pca_2d, k=5)\n",
        "comparison_data_pca_50d, jac_matrix_pca_50d = get_comparison_data(embeddings_med, med_pca_50d, k=5)\n",
        "comparison_data_tsne_2d, jac_matrix_tsne_2d = get_comparison_data(embeddings_med, med_tsne_2d, k=5)\n",
        "comparison_data_tsne_50d, jac_matrix_tsne_50d = get_comparison_data(embeddings_med, med_tsne_50d, k=5)\n",
        "comparison_data_umap_2d, jac_matrix_umap_2d = get_comparison_data(embeddings_med, med_umap_2d, k=5)\n",
        "comparison_data_umap_50d, jac_matrix_umap_50d = get_comparison_data(embeddings_med, med_umap_50d, k=5)\n"
      ],
      "metadata": {
        "id": "gjgxZSX5urt0"
      },
      "execution_count": null,
      "outputs": []
    },
    {
      "cell_type": "code",
      "source": [
        "# Example input: list of 6 DataFrames, each with columns ['in_hd', 'in_pca']\n",
        "dfs = [comparison_data_pca_2d, comparison_data_pca_50d, comparison_data_tsne_2d,\n",
        "       comparison_data_tsne_50d, comparison_data_umap_2d, comparison_data_umap_50d]  # Replace with actual data\n",
        "titles = [\n",
        "    \"PCA 2D\", \"PCA 50D\", \"t-SNE 2D\",\n",
        "    \"t-SNE 50D\", \"UMAP 2D\", \"UMAP 50D\"\n",
        "]\n",
        "\n",
        "\n",
        "fig, axes = plt.subplots(3, 3, figsize=(18, 12), sharey=True)\n",
        "axes = axes.flatten()  # Flatten 2D array of axes to 1D list\n",
        "\n",
        "for i in range(9):\n",
        "    if i < len(dfs):\n",
        "        df = dfs[i]\n",
        "        sns.histplot(data=df, x=\"in_hd\", color=\"blue\", label=\"Original Dimensions\", kde=True, ax=axes[i])\n",
        "        sns.histplot(data=df, x=\"in_pca\", color=\"red\", label=\"Reduced Dimensions\", kde=True, ax=axes[i])\n",
        "        axes[i].set_title(titles[i])\n",
        "        axes[i].set_xlabel(\"Loop Participation\")\n",
        "        axes[i].legend()\n",
        "    else:\n",
        "        axes[i].axis(\"off\")  # Turn off unused subplot\n",
        "\n",
        "axes[0].set_ylabel(\"Count\")\n",
        "plt.tight_layout()\n",
        "plt.show()"
      ],
      "metadata": {
        "id": "E1S_NGYxyKSc"
      },
      "execution_count": null,
      "outputs": []
    },
    {
      "cell_type": "code",
      "source": [
        "matrices = [jac_matrix_pca_2d, jac_matrix_pca_50d, jac_matrix_tsne_2d,\n",
        "            jac_matrix_tsne_50d, jac_matrix_umap_2d, jac_matrix_umap_50d]\n",
        "\n",
        "titles = [\n",
        "    \"PCA 2D\", \"PCA 50D\", \"t-SNE 2D\",\n",
        "    \"t-SNE 50D\", \"UMAP 2D\", \"UMAP 50D\"\n",
        "]\n",
        "\n",
        "fig, axes = plt.subplots(2, 3, figsize=(18, 10))\n",
        "\n",
        "for ax, mat, title in zip(axes.flat, matrices, titles):\n",
        "    sns.heatmap(mat, ax=ax, annot=True, fmt=\".2f\", cmap=\"viridis\")\n",
        "    ax.set_title(title)\n",
        "    ax.set_xlabel(\"Reduced H1 Feature Index\")\n",
        "    ax.set_ylabel(\"Original Dimensions H1 Feature Index\")\n",
        "\n",
        "plt.tight_layout()\n",
        "plt.show()"
      ],
      "metadata": {
        "id": "TjVkqALBzkI0"
      },
      "execution_count": null,
      "outputs": []
    },
    {
      "cell_type": "code",
      "source": [],
      "metadata": {
        "id": "PbR1pZnwur1i"
      },
      "execution_count": null,
      "outputs": []
    }
  ]
}